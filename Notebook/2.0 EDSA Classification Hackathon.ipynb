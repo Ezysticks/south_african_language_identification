{
 "cells": [
  {
   "cell_type": "markdown",
   "metadata": {
    "colab_type": "text",
    "id": "xpIPMNPoU_-p"
   },
   "source": [
    "# South African Language Identification Solution\n",
    "### EDSA 2022 Classification Hackathon\n",
    "#### Israel Ezema\n",
    "\n",
    "© Explore Data Science Academy\n",
    "\n"
   ]
  },
  {
   "cell_type": "markdown",
   "metadata": {},
   "source": [
    "<a id=\"cont\"></a>\n",
    "## Table of Content\n",
    "\n",
    "<a href=#one>1. Introduction</a>\n",
    "\n",
    "    1.1 Overview\n",
    "    1.2 Problem Statement\n",
    "    1.3 Instruction\n",
    "        1.3.1 NLTK Corpora Installation\n",
    "        1.3.2 Additional Installation\n",
    "       \n",
    "<a href=#two>1. Import Packages</a>\n",
    "\n",
    "<a href=#three>2. Collect Data</a>\n",
    "\n",
    "<a href=#four>4. Exploratory Data Analysis (EDA)<a>\n",
    "    \n",
    "    4.1 Missing Data Check\n",
    "    4.2 Target Distribution Visualization\n",
    "\n",
    "<a href=#five>5. Data Processing</a>\n",
    "    \n",
    "    5.1 Text Cleaning\n",
    "    5.2 Remove Puntuation\n",
    "\n",
    "<a href=#six>6. Feature Engineering</a>\n",
    "\n",
    "<a href=#seven>7. Modelling</a>\n",
    "    \n",
    "    7.1 Set Classifier\n",
    "    7.2 Build Model Function\n",
    "    7.3 Execute Classifer\n",
    "\n",
    "<a href=#eight>8. Model Performance</a>\n",
    "    \n",
    "    8.1 Models Test Score\n",
    "    8.2 Best Model Resolution\n",
    "    8.3 Hypertune Best Model\n",
    "    8.4 Best Model Confusion Matrix\n",
    "\n",
    "<a href=#nine>9. Saving & Exporting Model</a>\n",
    "\n",
    "<a href=#ten>10. Conclusion</a>\n",
    "\n",
    "<a href=#eleven>11. Recommendation</a>\n",
    "\n",
    "<a href=#ref>Reference Document Links</a>"
   ]
  },
  {
   "cell_type": "markdown",
   "metadata": {},
   "source": [
    "<a id=\"one\"></a>\n",
    "## 1. INTRODUCTION\n",
    "<a href=#cont>Back to Table of Contents</a>"
   ]
  },
  {
   "cell_type": "markdown",
   "metadata": {},
   "source": [
    "### 1.1 Overview\n",
    "\n",
    "South Africa is a multicultural society that is characterised by its rich linguistic diversity. Language is an indispensable tool that can be used to deepen democracy and also contribute to the social, cultural, intellectual, economic and political life of the South African society.\n",
    "\n",
    "The country is multilingual with 11 official languages, each of which is guaranteed equal status. Most South Africans are multilingual and able to speak at least two or more of the official languages.\n",
    "\n",
    "<img src=\"https://www.googleapis.com/download/storage/v1/b/kaggle-user-content/o/inbox%2F2205222%2F7f34544c1b1f61d1a5949bddacfd84a9%2FSouth_Africa_languages_2011.jpg?generation=1604393669339034&alt=media\" width=80%/> \n",
    "\n",
    "With such a multilingual population, it is only obvious that the South African systems and devices should also be able to communicate in multi-languages.\n",
    "\n",
    "Hence, I will be creating a Machine Learning Model which will take text which is in any of South Africa's 11 Official languages and identify which language the text is in. The goal of the model is to determining the natural language that a piece of text is written in."
   ]
  },
  {
   "cell_type": "markdown",
   "metadata": {},
   "source": [
    "### 1.2 Problem Statement\n",
    "\n",
    "Based on the linguistic diversity of the South African society, Having a model that can translate accurately any piece of text to it's required natural language, will go a long way in bridging the communication gap in any of her systems, encouraging inclusion and diversity, and finally enhanced productivity."
   ]
  },
  {
   "cell_type": "markdown",
   "metadata": {},
   "source": [
    "### 1.3 Instruction\n",
    "\n",
    "#### 1.3.1 Ensure you've got NLTK Corpora installed\n",
    "\n",
    "Some of the `nltk` text processing involve a lookup operation. For example, to find all [stopwords](https://www.geeksforgeeks.org/removing-stop-words-nltk-python/) in a given string of text, we require a list of all possible stopwords in the English language to use for the lookup. Such a list is refered to as a [corpus](https://en.wikipedia.org/wiki/Text_corpus). Therefore, first download the corpora we're going use if you don't have it installed, otherwise we may get a lookup error! Watch out specifically for the `tokenize` and `stopwords` sections. Not to worry, as we can easily avoid these errors by downloading the [corpora](http://www.nltk.org/nltk_data/) using the `nltk` downloader tool:"
   ]
  },
  {
   "cell_type": "markdown",
   "metadata": {
    "colab_type": "text",
    "id": "lct3bK9aU_-7"
   },
   "source": [
    "You should see this pop-up box. \n",
    "\n",
    "**NOTE:** the box might pop-up in the backround, in which case you should use `alt + tab` to switch to the downloader window.\n",
    "\n",
    "<img src=\"https://github.com/Explore-AI/Pictures/blob/master/nltk_downloader.png?raw=true\" width=25%/> \n",
    "\n",
    "Use it to navigate to the item we need to download: \n",
    "- stopwords corpus (Corpora tab)\n",
    "- punkt tokenizer models (Models tab)\n",
    "\n",
    "Navigate to these, click the download button, and exit the downloader when finished."
   ]
  },
  {
   "cell_type": "markdown",
   "metadata": {},
   "source": [
    "###### 1.3.2 Additional Installations Required to run this Notebook Analysis Effectively\n",
    "\n",
    "`Word Cloud:`\n",
    "System Requirement: Microsoft Visual C++ 14.0 or greater is required. Get it with \"Microsoft C++ Build Tools\": https://visualstudio.microsoft.com/visual-cpp-build-tools/\n"
   ]
  },
  {
   "cell_type": "code",
   "execution_count": 1,
   "metadata": {},
   "outputs": [
    {
     "data": {
      "text/plain": [
       "\" If you don't have it Installed, Remove Hashtag to Run\""
      ]
     },
     "execution_count": 1,
     "metadata": {},
     "output_type": "execute_result"
    }
   ],
   "source": [
    "''' If you don't have it Installed, Remove Hashtag to Run'''\n",
    "# !pip install wordcloud"
   ]
  },
  {
   "cell_type": "markdown",
   "metadata": {},
   "source": [
    "\n",
    "`Imblearn:` Required while handling Class Imbalance "
   ]
  },
  {
   "cell_type": "code",
   "execution_count": 2,
   "metadata": {},
   "outputs": [],
   "source": [
    "# !pip install imblearn"
   ]
  },
  {
   "cell_type": "markdown",
   "metadata": {},
   "source": [
    "So, Let's Proceed"
   ]
  },
  {
   "cell_type": "markdown",
   "metadata": {
    "colab_type": "text",
    "id": "lKmhMwlDU_-u"
   },
   "source": [
    "<a id=\"two\"></a>\n",
    "## 2. IMPORT PACKAGES\n",
    "<a href=#cont>Back to Table of Contents</a>\n",
    "\n",
    "In this section, we will be importing libraries which are a collections of modules in their classes and based on their functionality. For this Analysis and Modelling, we wil be requiring;\n",
    "\n",
    "   ` For Data Manupulation, libraries such as Pandas, Numpy etc.`\n",
    "   \n",
    "`For Data Visualization, libraries such as mathplotlib, seaborn`\n",
    "    \n",
    "`libraries for data prepartion, feature selection, model building, Performance Calculation and more.`\n",
    "\n",
    "**SEE** in-line comments BELOW for purpose per importation."
   ]
  },
  {
   "cell_type": "code",
   "execution_count": 3,
   "metadata": {
    "colab": {},
    "colab_type": "code",
    "id": "OQm0O5XHU_-z",
    "jupyter": {
     "outputs_hidden": true
    }
   },
   "outputs": [],
   "source": [
    "\"\"\" For seamless run, Import All required libraries here \"\"\"\n",
    "\n",
    "# Libraries for data loading, data manipulation and data visulisation\n",
    "import pandas as pd                                                   # for loading CSV data\n",
    "import numpy as np                                                    # Used for mathematical operations\n",
    "import matplotlib.pyplot as plt                                       # for Graphical Representation\n",
    "%matplotlib inline                                                    \n",
    "import seaborn as sns                                                 # for specialized plots\n",
    "import re                                                             \n",
    "import math                                                           \n",
    "sns.set()                                                             # set plot style\n",
    "\n",
    "# Libraries for data preparation\n",
    "import nltk\n",
    "import string\n",
    "import re                                \n",
    "\n",
    "# Libraries for Feature Extraction\n",
    "from sklearn.feature_extraction.text import CountVectorizer, TfidfVectorizer   \n",
    "\n",
    "# Libraries for Model Building\n",
    "from sklearn.pipeline import Pipeline\n",
    "from sklearn.model_selection import GridSearchCV, KFold, cross_val_score\n",
    "from sklearn.model_selection import train_test_split                  # To split the data into training and testing data\n",
    "from sklearn.naive_bayes import MultinomialNB, ComplementNB\n",
    "from sklearn.linear_model import LogisticRegression, SGDClassifier\n",
    "from sklearn.svm import LinearSVC, SVC\n",
    "from sklearn.ensemble import RandomForestClassifier\n",
    "from sklearn.neighbors import KNeighborsClassifier\n",
    "\n",
    "# Libraries for calculating performance metrics\n",
    "from sklearn import metrics                                           # for\n",
    "from sklearn.metrics import accuracy_score, recall_score, precision_score \n",
    "from sklearn.metrics import  classification_report, confusion_matrix, ConfusionMatrixDisplay\n",
    "from sklearn.metrics import make_scorer\n",
    "import time\n",
    "\n",
    "# Libraries to Save/Restore Models\n",
    "import pickle\n",
    "\n",
    "\n",
    "import warnings\n",
    "warnings.filterwarnings('ignore')"
   ]
  },
  {
   "cell_type": "code",
   "execution_count": 4,
   "metadata": {
    "colab": {
     "base_uri": "https://localhost:8080/",
     "height": 680
    },
    "colab_type": "code",
    "executionInfo": {
     "elapsed": 29356,
     "status": "error",
     "timestamp": 1560340175121,
     "user": {
      "displayName": "Bryan Davies",
      "photoUrl": "",
      "userId": "03059035420523728518"
     },
     "user_tz": -120
    },
    "id": "w8Iw1yCRU_-2",
    "outputId": "188501d1-fcf6-45be-8a45-56f885491dcd"
   },
   "outputs": [
    {
     "data": {
      "text/plain": [
       "\"\\nif you haven't installed the NLTK corpora, Remove Hashtag below and Run \\nIF NOT, JUST PASS!!!\\n\""
      ]
     },
     "execution_count": 4,
     "metadata": {},
     "output_type": "execute_result"
    }
   ],
   "source": [
    "'''\n",
    "if you haven't installed the NLTK corpora, Remove Hashtag below and Run \n",
    "IF NOT, JUST PASS!!!\n",
    "'''\n",
    "# nltk.download()"
   ]
  },
  {
   "cell_type": "markdown",
   "metadata": {},
   "source": [
    "<a id=\"three\"></a>\n",
    "## 3. Collect Data\n",
    "<a href=#cont>Back to Table of Contents</a>\n",
    "\n",
    "The dataset used for this challenge is the NCHLT Text Corpora collected by the South African Department of Arts and Culture & Centre for Text Technology (CTexT, North-West University, South Africa). The training set was improved through additional cleaning done by Praekelt.\n",
    "\n",
    "The data is in the form Language ID, Text. The text is in various states of cleanliness. Some NLP techniques will be necessary to clean up the data."
   ]
  },
  {
   "cell_type": "code",
   "execution_count": 5,
   "metadata": {},
   "outputs": [],
   "source": [
    "# Load Data\n",
    "df_train = pd.read_csv('train_set.csv')\n",
    "df_test =pd.read_csv('test_set.csv')"
   ]
  },
  {
   "cell_type": "code",
   "execution_count": 6,
   "metadata": {},
   "outputs": [
    {
     "data": {
      "text/html": [
       "<div>\n",
       "<style scoped>\n",
       "    .dataframe tbody tr th:only-of-type {\n",
       "        vertical-align: middle;\n",
       "    }\n",
       "\n",
       "    .dataframe tbody tr th {\n",
       "        vertical-align: top;\n",
       "    }\n",
       "\n",
       "    .dataframe thead th {\n",
       "        text-align: right;\n",
       "    }\n",
       "</style>\n",
       "<table border=\"1\" class=\"dataframe\">\n",
       "  <thead>\n",
       "    <tr style=\"text-align: right;\">\n",
       "      <th></th>\n",
       "      <th>lang_id</th>\n",
       "      <th>text</th>\n",
       "    </tr>\n",
       "  </thead>\n",
       "  <tbody>\n",
       "    <tr>\n",
       "      <th>0</th>\n",
       "      <td>xho</td>\n",
       "      <td>umgaqo-siseko wenza amalungiselelo kumaziko ax...</td>\n",
       "    </tr>\n",
       "    <tr>\n",
       "      <th>1</th>\n",
       "      <td>xho</td>\n",
       "      <td>i-dha iya kuba nobulumko bokubeka umsebenzi na...</td>\n",
       "    </tr>\n",
       "    <tr>\n",
       "      <th>2</th>\n",
       "      <td>eng</td>\n",
       "      <td>the province of kwazulu-natal department of tr...</td>\n",
       "    </tr>\n",
       "    <tr>\n",
       "      <th>3</th>\n",
       "      <td>nso</td>\n",
       "      <td>o netefatša gore o ba file dilo ka moka tše le...</td>\n",
       "    </tr>\n",
       "    <tr>\n",
       "      <th>4</th>\n",
       "      <td>ven</td>\n",
       "      <td>khomishini ya ndinganyiso ya mbeu yo ewa maana...</td>\n",
       "    </tr>\n",
       "  </tbody>\n",
       "</table>\n",
       "</div>"
      ],
      "text/plain": [
       "  lang_id                                               text\n",
       "0     xho  umgaqo-siseko wenza amalungiselelo kumaziko ax...\n",
       "1     xho  i-dha iya kuba nobulumko bokubeka umsebenzi na...\n",
       "2     eng  the province of kwazulu-natal department of tr...\n",
       "3     nso  o netefatša gore o ba file dilo ka moka tše le...\n",
       "4     ven  khomishini ya ndinganyiso ya mbeu yo ewa maana..."
      ]
     },
     "execution_count": 6,
     "metadata": {},
     "output_type": "execute_result"
    }
   ],
   "source": [
    "# View Dataset\n",
    "df_train.head()"
   ]
  },
  {
   "cell_type": "code",
   "execution_count": 7,
   "metadata": {},
   "outputs": [
    {
     "name": "stdout",
     "output_type": "stream",
     "text": [
      "Shape of TRAIN dataset: (33000, 2)\n",
      "Shape of TEST dataaet: (5682, 2)\n"
     ]
    }
   ],
   "source": [
    "# Lets see the shape of our Dataset.\n",
    "print(f'Shape of TRAIN dataset: {df_train.shape}')\n",
    "print(f'Shape of TEST dataaet: {df_test.shape}')"
   ]
  },
  {
   "cell_type": "code",
   "execution_count": 8,
   "metadata": {},
   "outputs": [
    {
     "name": "stdout",
     "output_type": "stream",
     "text": [
      "['xho', 'eng', 'nso', 'ven', 'tsn', 'nbl', 'zul', 'ssw', 'tso', 'sot', 'afr']\n"
     ]
    }
   ],
   "source": [
    "# printing a list of all sentiment types we have in our data.\n",
    "type_labels = list(df_train.lang_id.unique())\n",
    "print(type_labels)"
   ]
  },
  {
   "cell_type": "markdown",
   "metadata": {},
   "source": [
    "We have available for training and Test our model, `33000 & 5682 observations` respectively as seen above. Each label represents one of the following classes:\n",
    "\n",
    "Class Description\n",
    "*  **xho :**     Xhosa Language\n",
    "*  **eng :**     English Language\n",
    "*  **nso :**     Nsowiki Language\n",
    "*  **ven :**     Venda Language; also known as Tshivenḓa, or Luvenḓa is an official language in South Africa. \n",
    "*  **tsn :**     Tswana Language\n",
    "*  **nbl :**     Ndebele Language\n",
    "*  **zul :**     Zulu Language\n",
    "*  **ssw :**     Swazi Language\n",
    "*  **tso :**     Tsonga Language\n",
    "*  **sot :**     Sotho Language\n",
    "*  **afr :**     Afrikaans Language\n",
    "\n",
    "Variable definitions\n",
    "- **lang_id :**  Language Class\n",
    "- **text :**     Text Language translation  "
   ]
  },
  {
   "cell_type": "markdown",
   "metadata": {},
   "source": [
    "<a id=\"four\"></a>\n",
    "## 4. Exploratory Data Analysis (EDA)\n",
    "<a href=#cont>Back to Table of Contents</a>\n",
    "\n",
    "This includes looking to understand patterns in our data, pinpoint any corrupt data and indicate relationships between variables. This phase includes descriptive statistics and data visualisations.\n",
    "\n",
    "Now let's proceed to carrying out some EDA on our train dataset"
   ]
  },
  {
   "cell_type": "markdown",
   "metadata": {},
   "source": [
    "#### 4.1 Missing Data Check\n",
    "At the training phase it's important your dataset is ideal as possible, meaning things like; NO MISSING DATA in each observation."
   ]
  },
  {
   "cell_type": "code",
   "execution_count": 9,
   "metadata": {},
   "outputs": [
    {
     "name": "stdout",
     "output_type": "stream",
     "text": [
      "<class 'pandas.core.frame.DataFrame'>\n",
      "RangeIndex: 33000 entries, 0 to 32999\n",
      "Data columns (total 2 columns):\n",
      " #   Column   Non-Null Count  Dtype \n",
      "---  ------   --------------  ----- \n",
      " 0   lang_id  33000 non-null  object\n",
      " 1   text     33000 non-null  object\n",
      "dtypes: object(2)\n",
      "memory usage: 515.8+ KB\n"
     ]
    }
   ],
   "source": [
    "df_train.info()"
   ]
  },
  {
   "cell_type": "markdown",
   "metadata": {},
   "source": [
    "The features in our dataset are only in `Object` form , and All features seem to have `Zero Non-Null` values. let's check to confirm count of null values present in each feature."
   ]
  },
  {
   "cell_type": "code",
   "execution_count": 10,
   "metadata": {},
   "outputs": [
    {
     "data": {
      "text/plain": [
       "lang_id    0\n",
       "text       0\n",
       "dtype: int64"
      ]
     },
     "execution_count": 10,
     "metadata": {},
     "output_type": "execute_result"
    }
   ],
   "source": [
    "df_train.isnull().sum()"
   ]
  },
  {
   "cell_type": "markdown",
   "metadata": {},
   "source": [
    "This Confirms; `No Missing Values in our Dataset`"
   ]
  },
  {
   "cell_type": "markdown",
   "metadata": {},
   "source": [
    "#### 4.2 Target Distribution Visualization"
   ]
  },
  {
   "cell_type": "markdown",
   "metadata": {},
   "source": [
    "Let's Visualize the distribution of our Target Response within our Training DataSet i.e. how many data samples we have for each of the different language_ID"
   ]
  },
  {
   "cell_type": "code",
   "execution_count": 11,
   "metadata": {},
   "outputs": [
    {
     "data": {
      "text/plain": [
       "xho    3000\n",
       "eng    3000\n",
       "nso    3000\n",
       "ven    3000\n",
       "tsn    3000\n",
       "nbl    3000\n",
       "zul    3000\n",
       "ssw    3000\n",
       "tso    3000\n",
       "sot    3000\n",
       "afr    3000\n",
       "Name: lang_id, dtype: int64"
      ]
     },
     "execution_count": 11,
     "metadata": {},
     "output_type": "execute_result"
    }
   ],
   "source": [
    "# Let's see the count of observations per lan_id\n",
    "df_train.lang_id.value_counts()"
   ]
  },
  {
   "cell_type": "code",
   "execution_count": 12,
   "metadata": {},
   "outputs": [
    {
     "data": {
      "image/png": "[encoded data removed]",
      "text/plain": [
       "<Figure size 576x360 with 1 Axes>"
      ]
     },
     "metadata": {},
     "output_type": "display_data"
    }
   ],
   "source": [
    "# Target variable distribution\n",
    "sns.set_style('darkgrid')\n",
    "plt.figure(figsize=(8, 5))\n",
    "sns.countplot(df_train['lang_id'])\n",
    "plt.title('Language ID distribution')\n",
    "plt.show()"
   ]
  },
  {
   "cell_type": "markdown",
   "metadata": {},
   "source": [
    "The Distribution chart clearly reveals our dataset is `Well Balance`. [Class Imbalance]('https://www.analyticsvidhya.com/blog/2020/07/10-techniques-to-deal-with-class-imbalance-in-machine-learning/') can greatly affect the training of our model. [Click to Now more.]('https://www.analyticsvidhya.com/blog/2020/07/10-techniques-to-deal-with-class-imbalance-in-machine-learning/') "
   ]
  },
  {
   "cell_type": "markdown",
   "metadata": {},
   "source": [
    "<a id=\"five\"></a>\n",
    "## 5. DATA PROCESSING\n",
    "<a href=#cont>Back to Table of Contents</a>\n",
    "\n",
    "Let's get the data and clean it up a bit"
   ]
  },
  {
   "cell_type": "code",
   "execution_count": 13,
   "metadata": {},
   "outputs": [
    {
     "data": {
      "text/plain": [
       "0    umgaqo-siseko wenza amalungiselelo kumaziko axhasa ulawulo lwesininzi kunye nokuthath inxaxheba kwabafazi ezi ziquka phakathi kwezinye zazo ikomishoni yokulingana ngokwesini ikomishoni yamalungelo oluntu lomzantsi afrika                                            \n",
       "1    i-dha iya kuba nobulumko bokubeka umsebenzi naphi na kwisebe ngokusekwe kwiimfuno zokusebenza zalo emva kokubonana nomsebenzi kunye okanye imanyano yakhe ukuba ulandulo lomntu onjalo alufanelekanga i-dha mayibize uncedo olufanelekileyo elungelweni layo            \n",
       "2    the province of kwazulu-natal department of transport invites tenders from established contractors experienced in bridge construction for the construction of the kwajolwayo tugela river pedestrian bridge near tugela ferry the duration of the project will be months\n",
       "3    o netefatša gore o ba file dilo ka moka tše le dumelelanego ka tšona mohlala maleri a magolo a a šomišwago go fihlelela meagong e metelele scaffolds a a bolokegilego lefelo la maleba la go šomela go phela gabotse bjbj                                               \n",
       "4    khomishini ya ndinganyiso ya mbeu yo ewa maana u ya nga mulayo wa khomishini ya ndinganyiso ya mbeu u thetshelesa mbilaelo dzine dza tshimbilelana na tshialula u ya nga mbeu nahone i ivhea sa foramu ya thungo u ya nga mulayo wa ndinganyiso                         \n",
       "Name: text, dtype: object"
      ]
     },
     "execution_count": 13,
     "metadata": {},
     "output_type": "execute_result"
    }
   ],
   "source": [
    "# View Data\n",
    "pd.set_option('display.max_colwidth', -1)      # set to display full text in df\n",
    "df_train['text'].head(5)"
   ]
  },
  {
   "cell_type": "markdown",
   "metadata": {
    "colab_type": "text",
    "id": "oKeKPQWkU_-9"
   },
   "source": [
    "### 5.1 Text Cleaning"
   ]
  },
  {
   "cell_type": "markdown",
   "metadata": {},
   "source": [
    "These will include;\n",
    "\n",
    "#### 5.1.1 Remove Noise\n",
    "\n",
    "Analysing to removing Removing HTML text, Removing escape sequences, making everything lower case, \n",
    "\n",
    "In text analytics, removing noise (i.e. unneccesary information) is a key part of getting the data into a usable format"
   ]
  },
  {
   "cell_type": "code",
   "execution_count": 14,
   "metadata": {
    "scrolled": true
   },
   "outputs": [],
   "source": [
    "# Define function that handles\n",
    "def clean_text(text):\n",
    "    \"\"\"\n",
    "    This function uses regular expressions to \n",
    "        - remove html characters,\n",
    "        - remove escape sequences,\n",
    "        - remove capitalization,\n",
    "        - any extra white space from each text and then converts them to lowercase.\n",
    "\n",
    "    Input:\n",
    "    text: original text\n",
    "          datatype: string\n",
    "\n",
    "    Output:\n",
    "    texts: modified text\n",
    "           datatype: string\n",
    "    \"\"\"\n",
    "    \n",
    "    # replace the html characters with \" \"\n",
    "    text = re.sub('<.*?>', ' ', text)\n",
    "    # replace escape sequence with space\n",
    "    escape_seq = [\"\\r\", \"\\n\",'\\a', '\\b', '\\f', \"\\`\", '\\”', '\\t']\n",
    "    for i in escape_seq:\n",
    "        text = re.sub(i, \" \", text)\n",
    "    # Remove Capitalization\n",
    "    text = text.lower()\n",
    "    # plit and join the words\n",
    "    text=' '.join(text.split())\n",
    "    \n",
    "    return text"
   ]
  },
  {
   "cell_type": "code",
   "execution_count": 15,
   "metadata": {},
   "outputs": [],
   "source": [
    "# Applying function to clean text feature\n",
    "df_train['text'] = df_train['text'].apply(clean_text)\n",
    "df_test['text'] = df_test['text'].apply(clean_text)"
   ]
  },
  {
   "cell_type": "code",
   "execution_count": 16,
   "metadata": {},
   "outputs": [
    {
     "data": {
      "text/plain": [
       "0    umgaqo-siseko wenza amalungiselelo kumaziko axhasa ulawulo lwesininzi kunye nokuthath inxaxheba kwabafazi ezi ziquka phakathi kwezinye zazo ikomishoni yokulingana ngokwesini ikomishoni yamalungelo oluntu lomzantsi afrika                                            \n",
       "1    i-dha iya kuba nobulumko bokubeka umsebenzi naphi na kwisebe ngokusekwe kwiimfuno zokusebenza zalo emva kokubonana nomsebenzi kunye okanye imanyano yakhe ukuba ulandulo lomntu onjalo alufanelekanga i-dha mayibize uncedo olufanelekileyo elungelweni layo            \n",
       "2    the province of kwazulu-natal department of transport invites tenders from established contractors experienced in bridge construction for the construction of the kwajolwayo tugela river pedestrian bridge near tugela ferry the duration of the project will be months\n",
       "3    o netefatša gore o ba file dilo ka moka tše le dumelelanego ka tšona mohlala maleri a magolo a a šomišwago go fihlelela meagong e metelele scaffolds a a bolokegilego lefelo la maleba la go šomela go phela gabotse bjbj                                               \n",
       "4    khomishini ya ndinganyiso ya mbeu yo ewa maana u ya nga mulayo wa khomishini ya ndinganyiso ya mbeu u thetshelesa mbilaelo dzine dza tshimbilelana na tshialula u ya nga mbeu nahone i ivhea sa foramu ya thungo u ya nga mulayo wa ndinganyiso                         \n",
       "Name: text, dtype: object"
      ]
     },
     "execution_count": 16,
     "metadata": {},
     "output_type": "execute_result"
    }
   ],
   "source": [
    "# Let's view the MESSAGE created\n",
    "pd.set_option('display.max_colwidth', -1)      # set to display full text in df\n",
    "df_train['text'].head(5)"
   ]
  },
  {
   "cell_type": "markdown",
   "metadata": {},
   "source": [
    "#### 5.1.2 Remove Punctuation \n",
    "\n",
    "Haven removed some unnecessary information (i.e info not entirely useful to training our desired outcome), we need make all the text lower case to remove some noise from capitalisation."
   ]
  },
  {
   "cell_type": "code",
   "execution_count": 17,
   "metadata": {},
   "outputs": [],
   "source": [
    "# Define a function to handle punctuation removal\n",
    "def remove_punctuation(post):\n",
    "    return ''.join([l for l in post if l not in string.punctuation])"
   ]
  },
  {
   "cell_type": "code",
   "execution_count": 18,
   "metadata": {},
   "outputs": [],
   "source": [
    "# Remove Punctutaion Noise\n",
    "# df_train['text'] = df_train['text'].apply(remove_punctuation)"
   ]
  },
  {
   "cell_type": "code",
   "execution_count": 19,
   "metadata": {},
   "outputs": [],
   "source": [
    "# Verify Actions\n",
    "# pd.set_option('display.max_colwidth', -1)      # set to display full text in df\n",
    "# df_train['text'].head(5)"
   ]
  },
  {
   "cell_type": "markdown",
   "metadata": {},
   "source": [
    "Changes can be seen like `kwazulu-natal` of line 2 converted to `kwazulunatal`"
   ]
  },
  {
   "cell_type": "markdown",
   "metadata": {},
   "source": [
    "<a id=\"six\"></a>\n",
    "## 6. Feature Engineering\n",
    "<a href=#cont>Back to Table of Contents</a>"
   ]
  },
  {
   "cell_type": "markdown",
   "metadata": {},
   "source": [
    "This involves All actions to make ready our data to serve those structured selected features to models upon request."
   ]
  },
  {
   "cell_type": "code",
   "execution_count": 20,
   "metadata": {},
   "outputs": [],
   "source": [
    "# First features and label \n",
    "X = df_train['text']\n",
    "y = df_train['lang_id']\n",
    "\n",
    "# split data to Train/Test set\n",
    "X_train, X_val, y_train, y_val = train_test_split(X, y, test_size=0.1, random_state=42)"
   ]
  },
  {
   "cell_type": "markdown",
   "metadata": {},
   "source": [
    "Before we move on, let's take a look at the distribution of observations between our classes."
   ]
  },
  {
   "cell_type": "code",
   "execution_count": 21,
   "metadata": {},
   "outputs": [
    {
     "data": {
      "image/png": "[encoded data removed]",
      "text/plain": [
       "<Figure size 432x288 with 1 Axes>"
      ]
     },
     "metadata": {},
     "output_type": "display_data"
    },
    {
     "data": {
      "text/plain": [
       "tso    2747\n",
       "afr    2719\n",
       "ssw    2714\n",
       "zul    2705\n",
       "eng    2703\n",
       "tsn    2703\n",
       "sot    2693\n",
       "xho    2687\n",
       "nso    2678\n",
       "ven    2678\n",
       "nbl    2673\n",
       "Name: lang_id, dtype: int64"
      ]
     },
     "execution_count": 21,
     "metadata": {},
     "output_type": "execute_result"
    }
   ],
   "source": [
    "unique, counts = np.unique(y_train, return_counts=True)\n",
    "plt.bar(unique, counts)\n",
    "unique, counts = np.unique(y_val, return_counts=True)\n",
    "plt.bar(unique, counts)\n",
    "\n",
    "plt.title('Class Frequency')\n",
    "plt.xlabel('Class')\n",
    "plt.ylabel('Frequency')\n",
    "plt.xticks(ticks=['xho', 'eng', 'nso', 'ven', 'tsn', 'nbl', 'zul', 'ssw', 'tso', 'sot', 'afr'], \n",
    "           labels=['xho', 'eng', 'nso', 'ven', 'tsn', 'nbl', 'zul', 'ssw', 'tso', 'sot', 'afr'])\n",
    "\n",
    "plt.show()\n",
    "y_train.value_counts()"
   ]
  },
  {
   "cell_type": "markdown",
   "metadata": {},
   "source": [
    "**Classes are near Balance with min count `ven = 2366` and max count `tso = 2439`**\n",
    "\n",
    "The Effect of Class imbalance can be devasteting to model performance. "
   ]
  },
  {
   "cell_type": "markdown",
   "metadata": {},
   "source": [
    "let's proceed to initializing and fitting and training our model"
   ]
  },
  {
   "cell_type": "markdown",
   "metadata": {},
   "source": [
    "<a id=\"seven\"></a>\n",
    "## 7. Modeling\n",
    "<a href=#cont>Back to Table of Contents</a>\n",
    "\n"
   ]
  },
  {
   "cell_type": "markdown",
   "metadata": {},
   "source": [
    "#### 7.1 Set Classifier"
   ]
  },
  {
   "cell_type": "code",
   "execution_count": 22,
   "metadata": {},
   "outputs": [],
   "source": [
    "\"\"\"\n",
    "You can go ahead to adding to try other models\n",
    "this list of classifiers\n",
    "\"\"\"\n",
    "\n",
    "classifiers = [#LinearSVC(random_state=42),\n",
    "               \n",
    "               #SVC(),\n",
    "               \n",
    "               MultinomialNB(),\n",
    "               \n",
    "               #ComplementNB(),\n",
    "               \n",
    "               #LogisticRegression(random_state=42,\n",
    "#                                   multi_class='ovr',\n",
    "#                                   n_jobs=1,\n",
    "#                                   C=1e5,\n",
    "#                                   max_iter=4000),\n",
    "               \n",
    "               #RandomForestClassifier(max_depth = 25, random_state = 42),\n",
    "               \n",
    "               #KNeighborsClassifier(n_neighbors=5),\n",
    "               \n",
    "               #SGDClassifier(loss='hinge',\n",
    "#                              penalty='l2',\n",
    "#                              alpha=1e-3,\n",
    "#                              random_state=42,\n",
    "#                              max_iter=5,\n",
    "#                              tol=None)\n",
    "               ]"
   ]
  },
  {
   "cell_type": "markdown",
   "metadata": {},
   "source": [
    "#### 7.2 Build Model function"
   ]
  },
  {
   "cell_type": "code",
   "execution_count": 23,
   "metadata": {},
   "outputs": [],
   "source": [
    "def models_building(classifiers, X_train, y_train, X_val, y_val):\n",
    "    \"\"\"\n",
    "    This function takes in a list of classifiers and both the train and validation sets\n",
    "    and return a summary of F1-score and processing time as a dataframe\n",
    "\n",
    "    Input:\n",
    "    classifiers: a list of classifiers to train\n",
    "                 datatype: list\n",
    "    X_train: independent variable for training\n",
    "                 datatype: series\n",
    "    y_train: dependent variable for training\n",
    "                 datatype: series\n",
    "    X_val: independent variable for validation\n",
    "                 datatype: series\n",
    "    y_val: dependent variable for validation\n",
    "                 datatype: series\n",
    "\n",
    "    Output:\n",
    "    model_summary: F1 Score for all the classifiers\n",
    "                 datatype: dataframe\n",
    "    \"\"\"\n",
    "\n",
    "    models_summary = {}\n",
    "\n",
    "    # Pipeline to balance the classses and then to build the model\n",
    "    for clf in classifiers:\n",
    "        clf_para = Pipeline([('tfidf', TfidfVectorizer(min_df=1,\n",
    "                                                       max_df=0.9,\n",
    "                                                       ngram_range=(1, 1))),\n",
    "                             ('clf', clf)])\n",
    "\n",
    "        # Logging the Execution Time for each model\n",
    "        start_time = time.time()\n",
    "        clf_para.fit(X_train, y_train)\n",
    "        predictions = clf_para.predict(X_val)\n",
    "        run_time = time.time() - start_time\n",
    "\n",
    "        # Score output for each model\n",
    "        models_summary[clf.__class__.__name__] = {\n",
    "            'F1-Macro': metrics.f1_score(y_val,\n",
    "                                         predictions,\n",
    "                                         average='macro'),\n",
    "            'F1-Accuracy': metrics.f1_score(y_val, predictions,\n",
    "                                            average='micro'),\n",
    "            'F1-Weighted': metrics.f1_score(y_val,\n",
    "                                            predictions,\n",
    "                                            average='weighted'),\n",
    "            'Execution Time': run_time}\n",
    "\n",
    "    return pd.DataFrame.from_dict(models_summary, orient='index')"
   ]
  },
  {
   "cell_type": "markdown",
   "metadata": {},
   "source": [
    "#### 7.2 Execute Classifier"
   ]
  },
  {
   "cell_type": "code",
   "execution_count": 24,
   "metadata": {},
   "outputs": [],
   "source": [
    "classifiers_df = models_building(classifiers, X_train, y_train, X_val, y_val)"
   ]
  },
  {
   "cell_type": "markdown",
   "metadata": {},
   "source": [
    "<a id=\"eight\"></a>\n",
    "## 8. MODEL PERFORMANCE\n",
    "<a href=#cont>Back to Table of Contents</a>\n",
    "\n"
   ]
  },
  {
   "cell_type": "markdown",
   "metadata": {},
   "source": [
    "#### 8.1 Models Testing Scores\n"
   ]
  },
  {
   "cell_type": "code",
   "execution_count": 25,
   "metadata": {},
   "outputs": [
    {
     "data": {
      "text/html": [
       "<div>\n",
       "<style scoped>\n",
       "    .dataframe tbody tr th:only-of-type {\n",
       "        vertical-align: middle;\n",
       "    }\n",
       "\n",
       "    .dataframe tbody tr th {\n",
       "        vertical-align: top;\n",
       "    }\n",
       "\n",
       "    .dataframe thead th {\n",
       "        text-align: right;\n",
       "    }\n",
       "</style>\n",
       "<table border=\"1\" class=\"dataframe\">\n",
       "  <thead>\n",
       "    <tr style=\"text-align: right;\">\n",
       "      <th></th>\n",
       "      <th>F1-Macro</th>\n",
       "      <th>F1-Accuracy</th>\n",
       "      <th>F1-Weighted</th>\n",
       "      <th>Execution Time</th>\n",
       "    </tr>\n",
       "  </thead>\n",
       "  <tbody>\n",
       "    <tr>\n",
       "      <th>MultinomialNB</th>\n",
       "      <td>0.998784</td>\n",
       "      <td>0.998788</td>\n",
       "      <td>0.998788</td>\n",
       "      <td>4.47625</td>\n",
       "    </tr>\n",
       "  </tbody>\n",
       "</table>\n",
       "</div>"
      ],
      "text/plain": [
       "               F1-Macro  F1-Accuracy  F1-Weighted  Execution Time\n",
       "MultinomialNB  0.998784  0.998788     0.998788     4.47625       "
      ]
     },
     "execution_count": 25,
     "metadata": {},
     "output_type": "execute_result"
    }
   ],
   "source": [
    "df = classifiers_df.sort_values('F1-Macro', ascending=False)\n",
    "df"
   ]
  },
  {
   "cell_type": "markdown",
   "metadata": {},
   "source": [
    "###### Base Result\n",
    "\n",
    "    F1-Macro\tF1-Accuracy\tF1-Weighted\tExecution Time\n",
    "`MultinomialNB\t0.997859\t0.997879\t0.997879\t39.575837`\n",
    "\n",
    "`ComplementNB\t0.996329\t0.996364\t0.996360\t39.478670`\n",
    "\n",
    "`LogisticRegression\t0.995438\t0.995455\t0.995456\t1304.015171`\n",
    "\n",
    "`LinearSVC\t0.995128\t0.995152\t0.995151\t55.753337`\n",
    "\n",
    "`SVC\t0.993580\t0.993636\t0.993647\t2216.157977`\n",
    "\n",
    "`SGDClassifier\t0.982821\t0.983030\t0.982989\t40.524135`\n",
    "\n",
    "`KNeighborsClassifier\t0.966650\t0.967121\t0.966820\t46.544238`\n",
    "\n",
    "`RandomForestClassifier\t0.941830\t0.941515\t0.942629\t52.378196`"
   ]
  },
  {
   "cell_type": "markdown",
   "metadata": {},
   "source": [
    "#### 8.2 Best Model Resolution\n",
    "\n",
    "The most performing is the Multinomial Naive Bayes with F1-Macro of 99.9% and accuracy of 99.9% while closely followed by Complement Naive Bayes, Logistic Regression, Linear Support Vector Classifier, Support Vector Machine etc.\n",
    "\n",
    "We will proceed with the first two algorithms (to see which will come out better) by applying hyperparameter tunining, as they are the most performing models and considering their execution time."
   ]
  },
  {
   "cell_type": "markdown",
   "metadata": {},
   "source": [
    "#### 8.3 Hypertune Best Model"
   ]
  },
  {
   "cell_type": "code",
   "execution_count": 26,
   "metadata": {},
   "outputs": [],
   "source": [
    "# Refining the train-test split for validation:\n",
    "X_train, X_val, y_train, y_val = train_test_split(X, y, test_size=0.1, random_state=42)"
   ]
  },
  {
   "cell_type": "code",
   "execution_count": 27,
   "metadata": {},
   "outputs": [
    {
     "name": "stdout",
     "output_type": "stream",
     "text": [
      "              precision    recall  f1-score   support\n",
      "\n",
      "         afr       0.99      1.00      1.00       281\n",
      "         eng       1.00      1.00      1.00       297\n",
      "         nbl       0.99      1.00      1.00       327\n",
      "         nso       1.00      0.99      1.00       322\n",
      "         sot       0.99      1.00      1.00       307\n",
      "         ssw       1.00      1.00      1.00       286\n",
      "         tsn       1.00      1.00      1.00       297\n",
      "         tso       1.00      1.00      1.00       253\n",
      "         ven       1.00      1.00      1.00       322\n",
      "         xho       1.00      1.00      1.00       313\n",
      "         zul       1.00      0.99      0.99       295\n",
      "\n",
      "    accuracy                           1.00      3300\n",
      "   macro avg       1.00      1.00      1.00      3300\n",
      "weighted avg       1.00      1.00      1.00      3300\n",
      "\n"
     ]
    }
   ],
   "source": [
    "# Creating a pipeline for the gridsearch\n",
    "\n",
    "# set parameter grid\n",
    "param_grid = {'alpha': [0.1, 1, 5, 10]}  \n",
    "\n",
    "hyper_best_model = Pipeline([('tfidf', TfidfVectorizer(min_df=1,\n",
    "                                                max_df=0.9,\n",
    "                                                ngram_range=(1, 5))),\n",
    "                      ('mnb', GridSearchCV(MultinomialNB(),\n",
    "                                           param_grid=param_grid,\n",
    "                                           cv=5,\n",
    "                                           n_jobs=-1,\n",
    "                                           scoring='f1_weighted'))\n",
    "                      ])\n",
    "\n",
    "# Fiting data model\n",
    "hyper_best_model.fit(X_train, y_train) \n",
    "\n",
    "# predicting the fit on validation set\n",
    "y_pred = hyper_best_model.predict(X_val)  \n",
    "\n",
    "print(classification_report(y_val, y_pred))"
   ]
  },
  {
   "cell_type": "code",
   "execution_count": 28,
   "metadata": {},
   "outputs": [
    {
     "name": "stdout",
     "output_type": "stream",
     "text": [
      "Accuracy Score: 100.0%\n"
     ]
    }
   ],
   "source": [
    "print(f'Accuracy Score: {round(metrics.accuracy_score(y_val, y_pred), 2) * 100}''%')"
   ]
  },
  {
   "cell_type": "markdown",
   "metadata": {},
   "source": [
    "#### 8.4 Best Model Confusion matrix"
   ]
  },
  {
   "cell_type": "code",
   "execution_count": 29,
   "metadata": {},
   "outputs": [
    {
     "data": {
      "text/html": [
       "<div>\n",
       "<style scoped>\n",
       "    .dataframe tbody tr th:only-of-type {\n",
       "        vertical-align: middle;\n",
       "    }\n",
       "\n",
       "    .dataframe tbody tr th {\n",
       "        vertical-align: top;\n",
       "    }\n",
       "\n",
       "    .dataframe thead th {\n",
       "        text-align: right;\n",
       "    }\n",
       "</style>\n",
       "<table border=\"1\" class=\"dataframe\">\n",
       "  <thead>\n",
       "    <tr style=\"text-align: right;\">\n",
       "      <th></th>\n",
       "      <th>xho</th>\n",
       "      <th>eng</th>\n",
       "      <th>nso</th>\n",
       "      <th>ven</th>\n",
       "      <th>tsn</th>\n",
       "      <th>nbl</th>\n",
       "      <th>zul</th>\n",
       "      <th>ssw</th>\n",
       "      <th>tso</th>\n",
       "      <th>sot</th>\n",
       "      <th>afr</th>\n",
       "    </tr>\n",
       "  </thead>\n",
       "  <tbody>\n",
       "    <tr>\n",
       "      <th>xho</th>\n",
       "      <td>281</td>\n",
       "      <td>0</td>\n",
       "      <td>0</td>\n",
       "      <td>0</td>\n",
       "      <td>0</td>\n",
       "      <td>0</td>\n",
       "      <td>0</td>\n",
       "      <td>0</td>\n",
       "      <td>0</td>\n",
       "      <td>0</td>\n",
       "      <td>0</td>\n",
       "    </tr>\n",
       "    <tr>\n",
       "      <th>eng</th>\n",
       "      <td>0</td>\n",
       "      <td>297</td>\n",
       "      <td>0</td>\n",
       "      <td>0</td>\n",
       "      <td>0</td>\n",
       "      <td>0</td>\n",
       "      <td>0</td>\n",
       "      <td>0</td>\n",
       "      <td>0</td>\n",
       "      <td>0</td>\n",
       "      <td>0</td>\n",
       "    </tr>\n",
       "    <tr>\n",
       "      <th>nso</th>\n",
       "      <td>1</td>\n",
       "      <td>0</td>\n",
       "      <td>326</td>\n",
       "      <td>0</td>\n",
       "      <td>0</td>\n",
       "      <td>0</td>\n",
       "      <td>0</td>\n",
       "      <td>0</td>\n",
       "      <td>0</td>\n",
       "      <td>0</td>\n",
       "      <td>0</td>\n",
       "    </tr>\n",
       "    <tr>\n",
       "      <th>ven</th>\n",
       "      <td>0</td>\n",
       "      <td>0</td>\n",
       "      <td>0</td>\n",
       "      <td>320</td>\n",
       "      <td>2</td>\n",
       "      <td>0</td>\n",
       "      <td>0</td>\n",
       "      <td>0</td>\n",
       "      <td>0</td>\n",
       "      <td>0</td>\n",
       "      <td>0</td>\n",
       "    </tr>\n",
       "    <tr>\n",
       "      <th>tsn</th>\n",
       "      <td>0</td>\n",
       "      <td>0</td>\n",
       "      <td>0</td>\n",
       "      <td>0</td>\n",
       "      <td>307</td>\n",
       "      <td>0</td>\n",
       "      <td>0</td>\n",
       "      <td>0</td>\n",
       "      <td>0</td>\n",
       "      <td>0</td>\n",
       "      <td>0</td>\n",
       "    </tr>\n",
       "    <tr>\n",
       "      <th>nbl</th>\n",
       "      <td>0</td>\n",
       "      <td>0</td>\n",
       "      <td>0</td>\n",
       "      <td>0</td>\n",
       "      <td>0</td>\n",
       "      <td>286</td>\n",
       "      <td>0</td>\n",
       "      <td>0</td>\n",
       "      <td>0</td>\n",
       "      <td>0</td>\n",
       "      <td>0</td>\n",
       "    </tr>\n",
       "    <tr>\n",
       "      <th>zul</th>\n",
       "      <td>1</td>\n",
       "      <td>0</td>\n",
       "      <td>0</td>\n",
       "      <td>0</td>\n",
       "      <td>0</td>\n",
       "      <td>0</td>\n",
       "      <td>296</td>\n",
       "      <td>0</td>\n",
       "      <td>0</td>\n",
       "      <td>0</td>\n",
       "      <td>0</td>\n",
       "    </tr>\n",
       "    <tr>\n",
       "      <th>ssw</th>\n",
       "      <td>0</td>\n",
       "      <td>0</td>\n",
       "      <td>0</td>\n",
       "      <td>0</td>\n",
       "      <td>0</td>\n",
       "      <td>0</td>\n",
       "      <td>0</td>\n",
       "      <td>253</td>\n",
       "      <td>0</td>\n",
       "      <td>0</td>\n",
       "      <td>0</td>\n",
       "    </tr>\n",
       "    <tr>\n",
       "      <th>tso</th>\n",
       "      <td>0</td>\n",
       "      <td>0</td>\n",
       "      <td>0</td>\n",
       "      <td>0</td>\n",
       "      <td>0</td>\n",
       "      <td>0</td>\n",
       "      <td>0</td>\n",
       "      <td>0</td>\n",
       "      <td>322</td>\n",
       "      <td>0</td>\n",
       "      <td>0</td>\n",
       "    </tr>\n",
       "    <tr>\n",
       "      <th>sot</th>\n",
       "      <td>0</td>\n",
       "      <td>0</td>\n",
       "      <td>0</td>\n",
       "      <td>0</td>\n",
       "      <td>0</td>\n",
       "      <td>0</td>\n",
       "      <td>0</td>\n",
       "      <td>0</td>\n",
       "      <td>0</td>\n",
       "      <td>313</td>\n",
       "      <td>0</td>\n",
       "    </tr>\n",
       "    <tr>\n",
       "      <th>afr</th>\n",
       "      <td>0</td>\n",
       "      <td>0</td>\n",
       "      <td>2</td>\n",
       "      <td>0</td>\n",
       "      <td>0</td>\n",
       "      <td>0</td>\n",
       "      <td>0</td>\n",
       "      <td>0</td>\n",
       "      <td>0</td>\n",
       "      <td>1</td>\n",
       "      <td>292</td>\n",
       "    </tr>\n",
       "  </tbody>\n",
       "</table>\n",
       "</div>"
      ],
      "text/plain": [
       "     xho  eng  nso  ven  tsn  nbl  zul  ssw  tso  sot  afr\n",
       "xho  281  0    0    0    0    0    0    0    0    0    0  \n",
       "eng  0    297  0    0    0    0    0    0    0    0    0  \n",
       "nso  1    0    326  0    0    0    0    0    0    0    0  \n",
       "ven  0    0    0    320  2    0    0    0    0    0    0  \n",
       "tsn  0    0    0    0    307  0    0    0    0    0    0  \n",
       "nbl  0    0    0    0    0    286  0    0    0    0    0  \n",
       "zul  1    0    0    0    0    0    296  0    0    0    0  \n",
       "ssw  0    0    0    0    0    0    0    253  0    0    0  \n",
       "tso  0    0    0    0    0    0    0    0    322  0    0  \n",
       "sot  0    0    0    0    0    0    0    0    0    313  0  \n",
       "afr  0    0    2    0    0    0    0    0    0    1    292"
      ]
     },
     "execution_count": 29,
     "metadata": {},
     "output_type": "execute_result"
    }
   ],
   "source": [
    "labels = ['xho', 'eng', 'nso', 'ven', 'tsn', 'nbl', 'zul', 'ssw', 'tso', 'sot', 'afr']\n",
    "pd.DataFrame(data=confusion_matrix(y_val, y_pred), index=labels, columns=labels)"
   ]
  },
  {
   "cell_type": "code",
   "execution_count": 30,
   "metadata": {},
   "outputs": [
    {
     "data": {
      "image/png": "[encoded data removed]",
      "text/plain": [
       "<Figure size 1080x504 with 2 Axes>"
      ]
     },
     "metadata": {},
     "output_type": "display_data"
    }
   ],
   "source": [
    "# Confusion matrix\n",
    "labels = ['xho', 'eng', 'nso', 'ven', 'tsn', 'nbl', 'zul', 'ssw', 'tso', 'sot', 'afr']\n",
    "cm = confusion_matrix(y_val, y_pred)\n",
    "disp = ConfusionMatrixDisplay(confusion_matrix=cm, display_labels=labels)\n",
    "fig, ax = plt.subplots(figsize=(15,7))\n",
    "disp.plot(ax=ax)\n",
    "plt.show()"
   ]
  },
  {
   "cell_type": "markdown",
   "metadata": {},
   "source": [
    "<a id=\"nine\"></a>\n",
    "## 9. SAVING & EXPORTING MODEL\n",
    "<a href=#cont>Back to Table of Contents</a>"
   ]
  },
  {
   "cell_type": "code",
   "execution_count": 31,
   "metadata": {},
   "outputs": [],
   "source": [
    "# Save Test Target variable predictions as CSV for upload to Kaggle.\n",
    "submission_df = pd.DataFrame(df_test['index'])\n",
    "submission_df['lang_id'] = hyper_best_model.predict(df_test['text'])\n",
    "submission_df.to_csv('submission_3.csv', index=False)"
   ]
  },
  {
   "cell_type": "markdown",
   "metadata": {},
   "source": [
    "<a id=\"ten\"></a>\n",
    "## 10. Conclusion\n",
    "<a href=#cont>Back to Table of Contents</a>"
   ]
  },
  {
   "cell_type": "markdown",
   "metadata": {},
   "source": [
    "So far, haven tried out several algorithm, we've can thus infer that Multinomial Naive Bayes classifier performed best both in the training and validation phase with an accuracy score of over 99%, representing it's ability when dealing with unforseen data. Hence say our models failure rate is way below 5%."
   ]
  },
  {
   "cell_type": "markdown",
   "metadata": {},
   "source": [
    "<a id=\"eleven\"></a>\n",
    "## 11. Recommendation\n",
    "<a href=#cont>Back to Table of Contents</a>"
   ]
  },
  {
   "cell_type": "markdown",
   "metadata": {},
   "source": [
    "As a South African Language Trnslator, this model can be Integrated into any system, interface or platform to aid Translates words, phrases, sentences and whole paragraphs of text between different and choosen South African language."
   ]
  },
  {
   "cell_type": "markdown",
   "metadata": {},
   "source": [
    "<a id=\"ref\"></a>\n",
    "## Reference Links\n",
    "<a href=#cont>Back to Table of Contents</a>"
   ]
  },
  {
   "cell_type": "markdown",
   "metadata": {},
   "source": [
    "* [EXPLORE Data Science Academy Resources](https://explore-datascience.net/)\n",
    "* [GitHub Collab Ref.](https://github.com/Ezysticks/south_african_language_identification/)\n",
    "* [Kaggle Collab Ref](https://https://www.kaggle.com/competitions/south-african-language-identification/overview)"
   ]
  }
 ],
 "metadata": {
  "colab": {
   "collapsed_sections": [
    "VCXae5QXU__Z",
    "wzM8TbWBU__h",
    "FvA-QZmRU__r",
    "hAUkklVXU__6",
    "rFln-NFtVAAI",
    "UZomXVzoVAAR",
    "qp-n688CVAAc",
    "tGmGzrbsVAAf",
    "oFzCFS89VABM",
    "TlO1q-zlVABg"
   ],
   "name": "3_How-do-machines-understand language.ipynb",
   "provenance": [],
   "version": "0.3.2"
  },
  "kernelspec": {
   "display_name": "Python 3 (ipykernel)",
   "language": "python",
   "name": "python3"
  },
  "language_info": {
   "codemirror_mode": {
    "name": "ipython",
    "version": 3
   },
   "file_extension": ".py",
   "mimetype": "text/x-python",
   "name": "python",
   "nbconvert_exporter": "python",
   "pygments_lexer": "ipython3",
   "version": "3.9.7"
  }
 },
 "nbformat": 4,
 "nbformat_minor": 4
}
